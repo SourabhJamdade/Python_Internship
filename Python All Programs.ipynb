{
 "cells": [
  {
   "cell_type": "markdown",
   "id": "6bab43ae",
   "metadata": {},
   "source": [
    "## All Python Programs"
   ]
  },
  {
   "cell_type": "markdown",
   "id": "bd66080d",
   "metadata": {},
   "source": [
    "#### 1). Python program to find sum of elements in list"
   ]
  },
  {
   "cell_type": "code",
   "execution_count": 3,
   "id": "40559ca6",
   "metadata": {},
   "outputs": [
    {
     "name": "stdout",
     "output_type": "stream",
     "text": [
      "\n",
      " Given List : \n",
      "  [22, 97, 67, 24, 77, 56, 12, 87, 35]\n",
      "\n",
      " Sum Of All Elements Is :  477\n"
     ]
    }
   ],
   "source": [
    "a=[22,97,67,24,77,56,12,87,35]\n",
    "sum=0\n",
    "print(\"\\n Given List : \\n \",a)\n",
    "for x in a:\n",
    "\tsum+=x\n",
    "print(\"\\n Sum Of All Elements Is : \",sum)\n",
    "\n",
    "#for x in range(len(a)):\n",
    "#\tsum+=a[x]\n",
    "#print(\"\\n Sum Of All Elements Is : \",sum)"
   ]
  },
  {
   "cell_type": "markdown",
   "id": "3e8c0551",
   "metadata": {},
   "source": [
    "#### 2). Python | Multiply all numbers in the list"
   ]
  },
  {
   "cell_type": "code",
   "execution_count": 5,
   "id": "b6a6e63c",
   "metadata": {},
   "outputs": [
    {
     "name": "stdout",
     "output_type": "stream",
     "text": [
      "\n",
      " Before Multiplication : \n",
      "  [11, 87, 56, 23, 77, 23, 97, 4]\n",
      "\n",
      " After Multiplication : \n",
      "  [22, 174, 112, 46, 154, 46, 194, 8]\n"
     ]
    }
   ],
   "source": [
    "a=[11,87,56,23,77,23,97,4]\n",
    "\n",
    "print(\"\\n Before Multiplication : \\n \",a)\n",
    "\n",
    "#multiplying by 2\n",
    "\n",
    "for i in range(len(a)):\n",
    "\ta[i]=a[i]*2\n",
    "\n",
    "print(\"\\n After Multiplication : \\n \",a)"
   ]
  },
  {
   "cell_type": "markdown",
   "id": "d2d97f44",
   "metadata": {},
   "source": [
    "#### 3). Python program to find smallest number in a list"
   ]
  },
  {
   "cell_type": "code",
   "execution_count": 7,
   "id": "fd5acfa6",
   "metadata": {},
   "outputs": [
    {
     "name": "stdout",
     "output_type": "stream",
     "text": [
      "\n",
      " Given List : \n",
      "  [23, 87, 55, 267, 12, 98, 66, 7, 55]\n",
      "\n",
      " Smallest No. Is :  7\n"
     ]
    }
   ],
   "source": [
    "a=[23,87,55,267,12,98,66,7,55]\n",
    "min=a[0]\n",
    "\n",
    "print(\"\\n Given List : \\n \",a)\n",
    "for i in a:\n",
    "\tif min > i:\n",
    "\t\tmin=i\n",
    "\n",
    "print(\"\\n Smallest No. Is : \",min)"
   ]
  },
  {
   "cell_type": "markdown",
   "id": "037852c5",
   "metadata": {},
   "source": [
    "#### 4). Python program to find second largest no from list"
   ]
  },
  {
   "cell_type": "code",
   "execution_count": 8,
   "id": "6bfb0d4b",
   "metadata": {},
   "outputs": [
    {
     "name": "stdout",
     "output_type": "stream",
     "text": [
      "\n",
      " Given List : \n",
      "  [65, 23, 88, 223, 55, 123, 98, 43, 66, 23, 45]\n",
      "\n",
      " First Largest No. Is :  223\n",
      "\n",
      " Second Largest No. Is :  123\n"
     ]
    }
   ],
   "source": [
    "a=[65,23,88,223,55,123,98,43,66,23,45]\n",
    "\n",
    "mx1=0\n",
    "mx2=0\n",
    "print(\"\\n Given List : \\n \",a)\n",
    "for i in range(len(a)):\n",
    "    if a[i] > mx1:\n",
    "        mx2=mx1\n",
    "        mx1=a[i]\n",
    "        \n",
    "    elif a[i] > mx2 :\n",
    "        mx2=a[i]\n",
    "    \n",
    "print(\"\\n First Largest No. Is : \",mx1)\n",
    "print(\"\\n Second Largest No. Is : \",mx2)"
   ]
  },
  {
   "cell_type": "markdown",
   "id": "6fa6a189",
   "metadata": {},
   "source": [
    "####  5). Pyhton Program to print even no. from list"
   ]
  },
  {
   "cell_type": "code",
   "execution_count": 9,
   "id": "d79b935a",
   "metadata": {},
   "outputs": [
    {
     "name": "stdout",
     "output_type": "stream",
     "text": [
      "\n",
      " Givern List : \n",
      " [65, 23, 88, 223, 55, 123, 98, 43, 66, 23, 45]\n",
      "\n",
      " Even No. From List : \n",
      "88 98 66 "
     ]
    }
   ],
   "source": [
    "a=[65,23,88,223,55,123,98,43,66,23,45]\n",
    "\n",
    "print(\"\\n Givern List : \\n\",a)\n",
    "\n",
    "print(\"\\n Even No. From List : \")\n",
    "\n",
    "for i in a:\n",
    "    if i%2==0:\n",
    "        print(i,end=\" \")"
   ]
  },
  {
   "cell_type": "markdown",
   "id": "6943dfa1",
   "metadata": {},
   "source": [
    "####  6). Pyhton Program to print odd no. from list"
   ]
  },
  {
   "cell_type": "code",
   "execution_count": 10,
   "id": "5a7a7c67",
   "metadata": {},
   "outputs": [
    {
     "name": "stdout",
     "output_type": "stream",
     "text": [
      "\n",
      " Givern List : \n",
      " [65, 23, 88, 223, 55, 123, 98, 43, 66, 23, 45]\n",
      "\n",
      " Odd No. From List : \n",
      "65 23 223 55 123 43 23 45 "
     ]
    }
   ],
   "source": [
    "a=[65,23,88,223,55,123,98,43,66,23,45]\n",
    "\n",
    "print(\"\\n Givern List : \\n\",a)\n",
    "\n",
    "print(\"\\n Odd No. From List : \")\n",
    "\n",
    "for i in a:\n",
    "    if i%2!=0:\n",
    "        print(i,end=\" \")"
   ]
  },
  {
   "cell_type": "markdown",
   "id": "af30bd20",
   "metadata": {},
   "source": [
    "#### 7). Python Program to print all even no. from range"
   ]
  },
  {
   "cell_type": "code",
   "execution_count": 11,
   "id": "048e192c",
   "metadata": {},
   "outputs": [
    {
     "name": "stdout",
     "output_type": "stream",
     "text": [
      "\n",
      "Enter Range Between 0 to : 25\n",
      "\n",
      "Even No. : \n",
      "0 2 4 6 8 10 12 14 16 18 20 22 24 "
     ]
    }
   ],
   "source": [
    "no=int(input(\"\\nEnter Range Between 0 to : \"))\n",
    "\n",
    "print(\"\\nEven No. : \")\n",
    "for a in range(0,no+1):\n",
    "    if a%2==0:\n",
    "        print(a,end=\" \")"
   ]
  },
  {
   "cell_type": "markdown",
   "id": "1929103a",
   "metadata": {},
   "source": [
    "#### 8). Python Program to print all odd no. from range"
   ]
  },
  {
   "cell_type": "code",
   "execution_count": 13,
   "id": "06394b3b",
   "metadata": {},
   "outputs": [
    {
     "name": "stdout",
     "output_type": "stream",
     "text": [
      "\n",
      "Enter Range Between 0 to : 33\n",
      "\n",
      "Odd No. : \n",
      "1 3 5 7 9 11 13 15 17 19 21 23 25 27 29 31 33 "
     ]
    }
   ],
   "source": [
    "no=int(input(\"\\nEnter Range Between 0 to : \"))\n",
    "\n",
    "print(\"\\nOdd No. : \")\n",
    "for a in range(0,no+1):\n",
    "    if a%2!=0:\n",
    "        print(a,end=\" \")"
   ]
  },
  {
   "cell_type": "markdown",
   "id": "e8226f8a",
   "metadata": {},
   "source": [
    "#### 9). Python program to print positive no. from list"
   ]
  },
  {
   "cell_type": "code",
   "execution_count": 14,
   "id": "b8c420d8",
   "metadata": {},
   "outputs": [
    {
     "name": "stdout",
     "output_type": "stream",
     "text": [
      "\n",
      "Given List :  [-1, -5, 65, -4, 87, -43, 87, 12, 4, 2, -5]\n",
      "\n",
      "Positive No. Form List : \n",
      "65 87 87 12 4 2 "
     ]
    }
   ],
   "source": [
    "a=[-1,-5,65,-4,87,-43,87,12,4,2,-5]\n",
    "\n",
    "print(\"\\nGiven List : \",a)\n",
    "\n",
    "print(\"\\nPositive No. Form List : \")\n",
    "\n",
    "for i in a:\n",
    "    if i > 0:\n",
    "        print(i,end=\" \")"
   ]
  },
  {
   "cell_type": "markdown",
   "id": "d377007e",
   "metadata": {},
   "source": [
    "#### 10). Python program to print negative no. from list"
   ]
  },
  {
   "cell_type": "code",
   "execution_count": 15,
   "id": "0680a625",
   "metadata": {},
   "outputs": [
    {
     "name": "stdout",
     "output_type": "stream",
     "text": [
      "\n",
      "Given List :  [-1, -5, 65, -4, 87, -43, 87, 12, 4, 2, -5]\n",
      "\n",
      "egative No. Form List : \n",
      "-1 -5 -4 -43 -5 "
     ]
    }
   ],
   "source": [
    "a=[-1,-5,65,-4,87,-43,87,12,4,2,-5]\n",
    "\n",
    "print(\"\\nGiven List : \",a)\n",
    "\n",
    "print(\"\\negative No. Form List : \")\n",
    "\n",
    "for i in a:\n",
    "    if i < 0:\n",
    "        print(i,end=\" \")"
   ]
  },
  {
   "cell_type": "markdown",
   "id": "d4bafa7f",
   "metadata": {},
   "source": [
    "#### 11). Python Program to all positive no. from range"
   ]
  },
  {
   "cell_type": "code",
   "execution_count": 16,
   "id": "924eaaaf",
   "metadata": {},
   "outputs": [
    {
     "name": "stdout",
     "output_type": "stream",
     "text": [
      "\n",
      "Enter Range Between -10 to : 12\n",
      "\n",
      "Positive No. From Range : \n",
      "1 2 3 4 5 6 7 8 9 10 11 12 "
     ]
    }
   ],
   "source": [
    "no=int(input(\"\\nEnter Range Between -10 to : \"))\n",
    "\n",
    "print(\"\\nPositive No. From Range : \")\n",
    "for a in range(-10,no+1):\n",
    "    if a > 0:\n",
    "        print(a,end=\" \")"
   ]
  },
  {
   "cell_type": "markdown",
   "id": "327497df",
   "metadata": {},
   "source": [
    "#### 12). Python Program to all negative no. from range"
   ]
  },
  {
   "cell_type": "code",
   "execution_count": 17,
   "id": "1f11260f",
   "metadata": {},
   "outputs": [
    {
     "name": "stdout",
     "output_type": "stream",
     "text": [
      "\n",
      "Enter Range Between -10 to : 11\n",
      "\n",
      "Negative No. From Range : \n",
      "-10 -9 -8 -7 -6 -5 -4 -3 -2 -1 "
     ]
    }
   ],
   "source": [
    "no=int(input(\"\\nEnter Range Between -10 to : \"))\n",
    "\n",
    "print(\"\\nNegative No. From Range : \")\n",
    "for a in range(-10,no+1):\n",
    "    if a < 0:\n",
    "        print(a,end=\" \")"
   ]
  },
  {
   "cell_type": "markdown",
   "id": "31563951",
   "metadata": {},
   "source": [
    "#### 13). Python Program to Remove multiple elemnts from list"
   ]
  },
  {
   "cell_type": "code",
   "execution_count": 27,
   "id": "7f4b784c",
   "metadata": {},
   "outputs": [
    {
     "name": "stdout",
     "output_type": "stream",
     "text": [
      "\n",
      "Given List :  [12, 65, 34, 23, 99, 56, 23, 98, 45, 22]\n"
     ]
    }
   ],
   "source": [
    "a=[12,65,34,23,99,56,23,98,45,22]\n",
    "\n",
    "print(\"\\nGiven List : \",a)"
   ]
  },
  {
   "cell_type": "code",
   "execution_count": 25,
   "id": "3748dde9",
   "metadata": {},
   "outputs": [
    {
     "name": "stdout",
     "output_type": "stream",
     "text": [
      "\n",
      "Enter Range Of Index TO Remove Elemnts \n",
      "\n",
      "Strat : 3\n",
      "\n",
      "End : 5\n"
     ]
    }
   ],
   "source": [
    "print(\"\\nEnter Range Of Index TO Remove Elemnts \")\n",
    "x=int(input(\"\\nStrat : \"))\n",
    "y=int(input(\"\\nEnd : \"))"
   ]
  },
  {
   "cell_type": "code",
   "execution_count": 28,
   "id": "033b4192",
   "metadata": {},
   "outputs": [
    {
     "name": "stdout",
     "output_type": "stream",
     "text": [
      "\n",
      "Afeter Removing Elemnts :  [12, 65, 34, 56, 23, 98, 45, 22]\n"
     ]
    }
   ],
   "source": [
    "del a[x:y]\n",
    "\n",
    "print(\"\\nAfeter Removing Elemnts : \",a)"
   ]
  },
  {
   "cell_type": "markdown",
   "id": "ea1b1d87",
   "metadata": {},
   "source": [
    "#### 14). Pyhron Program to remove empty list from list"
   ]
  },
  {
   "cell_type": "code",
   "execution_count": 29,
   "id": "0ec068f8",
   "metadata": {},
   "outputs": [
    {
     "name": "stdout",
     "output_type": "stream",
     "text": [
      "\n",
      "Given List :  [1, 24, [13, 56, 23], 3, 34, [], 23, 86, [], 44, [1, 2, 3], 23, 98]\n",
      "\n",
      "After :  [1, 24, [13, 56, 23], 3, 34, 23, 86, 44, [1, 2, 3], 23, 98]\n"
     ]
    }
   ],
   "source": [
    "a=[1,24,[13,56,23],3,34,[],23,86,[],44,[1,2,3],23,98]\n",
    "\n",
    "print(\"\\nGiven List : \",a)\n",
    "\n",
    "\n",
    "#a=[i for i in a if i!=[]]\n",
    "\n",
    "for i in a:\n",
    "    if type(i)==list:\n",
    "        if len(i)==0:\n",
    "            a.remove(i)\n",
    "\n",
    "\n",
    "print(\"\\nAfter : \",a)"
   ]
  },
  {
   "cell_type": "markdown",
   "id": "bcd42717",
   "metadata": {},
   "source": [
    "#### 15). Python Program to create function that check wheather number is Perfect or not"
   ]
  },
  {
   "cell_type": "code",
   "execution_count": 32,
   "id": "46f8ee4d",
   "metadata": {},
   "outputs": [
    {
     "name": "stdout",
     "output_type": "stream",
     "text": [
      "Enter No. : 6\n",
      "6 Is Perfect No.\n"
     ]
    }
   ],
   "source": [
    "def checkPerfect(no):\n",
    "    sum=0\n",
    "    for a in range(1,no-1):\n",
    "        if no%a==0:\n",
    "            sum=sum+a\n",
    "    if sum==no:\n",
    "        print(no,\"Is Perfect No.\")\n",
    "    else:\n",
    "        print(no,\"Is Not Perfect No.\")\n",
    "\n",
    "\n",
    "num=int(input(\"Enter No. : \"))\n",
    "checkPerfect(num)"
   ]
  },
  {
   "cell_type": "markdown",
   "id": "12a84d09",
   "metadata": {},
   "source": [
    "#### 16). Python Program to create function for create and print list where values are square of no. between 1 to 30"
   ]
  },
  {
   "cell_type": "code",
   "execution_count": 34,
   "id": "c3610b59",
   "metadata": {},
   "outputs": [
    {
     "name": "stdout",
     "output_type": "stream",
     "text": [
      "List :  [1, 2, 3, 4, 5, 6, 7, 8, 9, 10, 11, 12, 13, 14, 15, 16, 17, 18, 19, 20, 21, 22, 23, 24, 25, 26, 27, 28, 29, 30]\n",
      "Square List :  [1, 4, 9, 16, 25, 36, 49, 64, 81, 100, 121, 144, 169, 196, 225, 256, 289, 324, 361, 400, 441, 484, 529, 576, 625, 676, 729, 784, 841, 900]\n"
     ]
    }
   ],
   "source": [
    "def sqList(start,end):\n",
    "    #a=[i*i for i in range(start,end+1)]\n",
    "\n",
    "    a=[i for i in range(start,end+1)]\n",
    "    print(\"List : \",a)\n",
    "\n",
    "    for x in range(len(a)):\n",
    "        #a[x]=a[x]**2\n",
    "        a[x]=a[x]*a[x]\n",
    "        \n",
    "\n",
    "    \n",
    "    print(\"Square List : \",a)\n",
    "\n",
    "sqList(1,30)"
   ]
  },
  {
   "cell_type": "markdown",
   "id": "560c576b",
   "metadata": {},
   "source": [
    "#### 17). Write Python Program to access a function inside function"
   ]
  },
  {
   "cell_type": "code",
   "execution_count": 35,
   "id": "a958599a",
   "metadata": {},
   "outputs": [
    {
     "name": "stdout",
     "output_type": "stream",
     "text": [
      "This is test function\n",
      "This is demo Function\n"
     ]
    }
   ],
   "source": [
    "def demo():\n",
    "    print(\"This is demo Function\")\n",
    "\n",
    "def test():\n",
    "    print(\"This is test function\")\n",
    "    demo()\n",
    " \n",
    "\n",
    "test()"
   ]
  },
  {
   "cell_type": "markdown",
   "id": "dd21cde7",
   "metadata": {},
   "source": [
    "#### 18). Python Program to check given string is symmetrical or Palindrome"
   ]
  },
  {
   "cell_type": "code",
   "execution_count": 37,
   "id": "fb6df8a5",
   "metadata": {},
   "outputs": [
    {
     "name": "stdout",
     "output_type": "stream",
     "text": [
      "Enter String : ABBA\n",
      "ABBA Is Palindrom\n"
     ]
    }
   ],
   "source": [
    "a=input(\"Enter String : \")\n",
    "flg=0\n",
    "for i in range(0,len(a)):\n",
    "\tif a[i]!=a[-(i+1)]:\n",
    "\t\tflg=1\n",
    "\t\tbreak\n",
    "\n",
    "if flg==1:\n",
    "\tprint(f\"{a} Is Not Palindrom\")\n",
    "else :\n",
    "\tprint(f\"{a} Is Palindrom\")"
   ]
  },
  {
   "cell_type": "markdown",
   "id": "e3038280",
   "metadata": {},
   "source": [
    "#### 19). Pyhton Program i'th char from string"
   ]
  },
  {
   "cell_type": "code",
   "execution_count": 38,
   "id": "4388d7e9",
   "metadata": {},
   "outputs": [
    {
     "name": "stdout",
     "output_type": "stream",
     "text": [
      "Enter String : Python Programming\n",
      "Given String : Python Programming\n",
      "Enter Postion : 1\n",
      "After Remove :  ython Programming\n"
     ]
    }
   ],
   "source": [
    "a=input(\"Enter String : \")\n",
    "b=\"\"\n",
    "print(\"Given String :\",a)\n",
    "n=int(input(\"Enter Postion : \"))\n",
    "for x in range(len(a)):\n",
    "\tif x!=n-1:\n",
    "\t\tb=b+a[x]\n",
    "print(\"After Remove : \",b)"
   ]
  },
  {
   "cell_type": "markdown",
   "id": "1b294300",
   "metadata": {},
   "source": [
    "#### 20). Reverse words in given string in python"
   ]
  },
  {
   "cell_type": "code",
   "execution_count": 39,
   "id": "26b4e859",
   "metadata": {},
   "outputs": [
    {
     "name": "stdout",
     "output_type": "stream",
     "text": [
      "nohtyP si na deterpretni level-hgih esoprup-lareneg gnimmargorp egaugnal "
     ]
    }
   ],
   "source": [
    "a=\"Python is an interpreted high-level general-purpose programming language\"\n",
    "c=list(a.split())\n",
    "d=list()\n",
    "b=\"\"\n",
    "g=\"\"\n",
    "for y in c:\n",
    "        for x in range(len(y)):\n",
    "                b+=y[-(x+1)]\n",
    "        d.append(b)\n",
    "        b=\"\"\n",
    "\n",
    "for z in d:\n",
    "       print(z,end=\" \")\n"
   ]
  },
  {
   "cell_type": "markdown",
   "id": "cefe930d",
   "metadata": {},
   "source": [
    "#### 21). Find the Length Of String"
   ]
  },
  {
   "cell_type": "code",
   "execution_count": 40,
   "id": "d662b8ea",
   "metadata": {},
   "outputs": [
    {
     "name": "stdout",
     "output_type": "stream",
     "text": [
      "Enter String : Python Programming\n",
      "Length Of String :  18\n"
     ]
    }
   ],
   "source": [
    "a=input(\"Enter String : \")\n",
    "count=0\n",
    "for x in a:\n",
    "\tcount+=1\n",
    "print(\"Length Of String : \",count)"
   ]
  },
  {
   "cell_type": "markdown",
   "id": "4c7cb3e3",
   "metadata": {},
   "source": [
    "####  22). Avoid Spaces in string length"
   ]
  },
  {
   "cell_type": "code",
   "execution_count": 41,
   "id": "2343c9f9",
   "metadata": {},
   "outputs": [
    {
     "name": "stdout",
     "output_type": "stream",
     "text": [
      "Enter String : Python Programming\n",
      "Lenght Of String :  17\n"
     ]
    }
   ],
   "source": [
    "count=0\n",
    "a=input(\"Enter String : \")\n",
    "for x in a:\n",
    "\tif x!=\" \":\n",
    "\t\tcount+=1\n",
    "print(\"Lenght Of String : \",count)"
   ]
  },
  {
   "cell_type": "markdown",
   "id": "25bf67c8",
   "metadata": {},
   "source": [
    "#### 23). Python Program to Print Even Length Words in String"
   ]
  },
  {
   "cell_type": "code",
   "execution_count": 44,
   "id": "4ae3b9d8",
   "metadata": {},
   "outputs": [
    {
     "name": "stdout",
     "output_type": "stream",
     "text": [
      "Python is an interpreted high-level general-purpose programming language\n",
      "\n",
      "Given String : Python is an interpreted high-level general-purpose programming language\n",
      "\n",
      "Even Length Words Are : \n",
      "Python\n",
      "is\n",
      "an\n",
      "high-level\n",
      "language\n"
     ]
    }
   ],
   "source": [
    "a=input()\n",
    "print(\"\\nGiven String :\",a)\n",
    "ll=a.split(\" \")\n",
    "print(\"\\nEven Length Words Are : \")\n",
    "for x in ll:\n",
    "\tif len(x)%2==0:\n",
    "\t\tprint(x)"
   ]
  },
  {
   "cell_type": "markdown",
   "id": "ebe009ce",
   "metadata": {},
   "source": [
    "#### 24). Uppercase Half String"
   ]
  },
  {
   "cell_type": "code",
   "execution_count": 45,
   "id": "90911b47",
   "metadata": {},
   "outputs": [
    {
     "name": "stdout",
     "output_type": "stream",
     "text": [
      "Given String :  abcdef\n",
      "Half UpperCase String :  ABCdef\n"
     ]
    }
   ],
   "source": [
    "a=\"abcdef\"\n",
    "print(\"Given String : \",a)\n",
    "b=\"\"\n",
    "\t\n",
    "for x in range(len(a)//2):\n",
    "\t\t\tif a[x]==a[x].lower():\n",
    "\t\t\t\tb+=a[x].upper()\n",
    "\t\t\telse:\n",
    "\t\t\t\tb+=a[x]\n",
    "b+=a[x+1:]\n",
    "\n",
    "print(\"Half UpperCase String : \",b)"
   ]
  },
  {
   "cell_type": "markdown",
   "id": "a926ee9d",
   "metadata": {},
   "source": [
    "#### 25). Python Program to Reversing a List"
   ]
  },
  {
   "cell_type": "code",
   "execution_count": 46,
   "id": "a0b7f279",
   "metadata": {},
   "outputs": [
    {
     "name": "stdout",
     "output_type": "stream",
     "text": [
      "Given List :  [22, 7, 5, 32, 44, 13, 98, 43, 11]\n",
      "After Reverse :  [11, 43, 98, 13, 44, 32, 5, 7, 22]\n"
     ]
    }
   ],
   "source": [
    "a=[22,7,5,32,44,13,98,43,11]\n",
    "b=list()\n",
    "print(\"Given List : \",a)\n",
    "\n",
    "for x in range(len(a)-1,-1,-1):\n",
    "    b.append(a[x])\n",
    "\n",
    "print(\"After Reverse : \",b)"
   ]
  },
  {
   "cell_type": "markdown",
   "id": "c5267b00",
   "metadata": {},
   "source": [
    "#### 26). Python Program to cloning or copying a list"
   ]
  },
  {
   "cell_type": "code",
   "execution_count": 47,
   "id": "86643d76",
   "metadata": {},
   "outputs": [
    {
     "name": "stdout",
     "output_type": "stream",
     "text": [
      "Id Of List 1 : 53689576\n",
      "Id Of List 2 : 53425768\n",
      "\n",
      "List 1 :  [22, 7, 5, 32, 44, 13, 98, 43, 11]\n",
      "List 2 :  [22, 7, 5, 32, 44, 13, 98, 43, 11]\n"
     ]
    }
   ],
   "source": [
    "a=[22,7,5,32,44,13,98,43,11]\n",
    "\n",
    "b=list()\n",
    "\n",
    "#b=a.copy()\n",
    "\n",
    "for x in a:\n",
    "    b.append(x)\n",
    "\n",
    "\n",
    "print(\"Id Of List 1 :\",id(a))\n",
    "print(\"Id Of List 2 :\",id(b))\n",
    "\n",
    "print(\"\\nList 1 : \",a)\n",
    "print(\"List 2 : \",b)"
   ]
  },
  {
   "cell_type": "markdown",
   "id": "a28ed548",
   "metadata": {},
   "source": [
    "#### 27). Python Program to count occurance of an element in a list"
   ]
  },
  {
   "cell_type": "code",
   "execution_count": 48,
   "id": "53a5630a",
   "metadata": {},
   "outputs": [
    {
     "name": "stdout",
     "output_type": "stream",
     "text": [
      "Given List :  [11, 74, 3, 11, 3, 2, 9, 3, 11, 43, 76, 2, 45]\n",
      "Enter Elemnt : 11\n",
      "\n",
      "Occurance Of 11 Is :  3\n"
     ]
    }
   ],
   "source": [
    "a=[11,74,3,11,3,2,9,3,11,43,76,2,45]\n",
    "count=0\n",
    "\n",
    "print(\"Given List : \",a)\n",
    "\n",
    "no=int(input(\"Enter Elemnt : \"))\n",
    "\n",
    "for x in a:\n",
    "    if x==no:\n",
    "        count+=1\n",
    "\n",
    "print(f\"\\nOccurance Of {no} Is : \",count)"
   ]
  },
  {
   "cell_type": "markdown",
   "id": "847922a7",
   "metadata": {},
   "source": [
    "#### 28). Python program to sum of number digit in list"
   ]
  },
  {
   "cell_type": "code",
   "execution_count": 49,
   "id": "a7849cf3",
   "metadata": {},
   "outputs": [
    {
     "name": "stdout",
     "output_type": "stream",
     "text": [
      "Given List :  [23, 65, 356, 255, 987, 44, 244, 342, 12, 86, 543]\n",
      "Sum Of Digit Number In List :  [5, 11, 14, 12, 24, 8, 10, 9, 3, 14, 12]\n"
     ]
    }
   ],
   "source": [
    "a=[23,65,356,255,987,44,244,342,12,86,543]\n",
    "\n",
    "b=list()\n",
    "\n",
    "sum=0\n",
    "\n",
    "print(\"Given List : \",a)\n",
    "\n",
    "for x in a:\n",
    "    for y in str(x):\n",
    "        sum+=int(y)\n",
    "    b.append(sum)\n",
    "    sum=0\n",
    "\n",
    "print(\"Sum Of Digit Number In List : \",b)"
   ]
  }
 ],
 "metadata": {
  "kernelspec": {
   "display_name": "Python 3 (ipykernel)",
   "language": "python",
   "name": "python3"
  },
  "language_info": {
   "codemirror_mode": {
    "name": "ipython",
    "version": 3
   },
   "file_extension": ".py",
   "mimetype": "text/x-python",
   "name": "python",
   "nbconvert_exporter": "python",
   "pygments_lexer": "ipython3",
   "version": "3.8.10"
  }
 },
 "nbformat": 4,
 "nbformat_minor": 5
}
